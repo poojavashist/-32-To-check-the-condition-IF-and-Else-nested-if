{
 "cells": [
  {
   "cell_type": "markdown",
   "metadata": {},
   "source": [
    "# 3-3 To check the condition IF and Else"
   ]
  },
  {
   "cell_type": "code",
   "execution_count": 4,
   "metadata": {},
   "outputs": [
    {
     "name": "stdout",
     "output_type": "stream",
     "text": [
      "Welcome to the rollercoaster!\n",
      "What is your height in cm? 120\n",
      "you can ride the rollar coster.\n"
     ]
    }
   ],
   "source": [
    "print(\"Welcome to the rollercoaster!\")\n",
    "height = int(input(\"What is your height in cm? \"))\n",
    "if height >= 120 :\n",
    "  print(\"you can ride the rollar coster.\")\n",
    "else:\n",
    "  print(\"Sorry ! you are not ride the rollar coster\")"
   ]
  },
  {
   "cell_type": "code",
   "execution_count": null,
   "metadata": {},
   "outputs": [],
   "source": [
    "#32 To check the condition IF and Else nested if"
   ]
  },
  {
   "cell_type": "code",
   "execution_count": 19,
   "metadata": {},
   "outputs": [
    {
     "name": "stdout",
     "output_type": "stream",
     "text": [
      "Welcome to the rollercoaster!\n",
      "What is your height in cm? 122\n",
      "ride rollar coster\n",
      "enter your age? 20\n",
      "please pay $18\n"
     ]
    }
   ],
   "source": [
    "print(\"Welcome to the rollercoaster!\")\n",
    "height = int(input(\"What is your height in cm? \"))\n",
    "if height >= 120:\n",
    "     print (\"ride rollar coster\")\n",
    "     age = int(input(\"enter your age? \"))\n",
    "if age < 12:\n",
    "    print(\"please pay $5. \")\n",
    "elif age <= 18:\n",
    "    print(\"please pay $7\")\n",
    "elif age <= 22:\n",
    "    print(\"please pay $18\")\n",
    "else:\n",
    "    print(\"Sorry you can not ride. \")"
   ]
  },
  {
   "cell_type": "code",
   "execution_count": null,
   "metadata": {},
   "outputs": [],
   "source": []
  }
 ],
 "metadata": {
  "kernelspec": {
   "display_name": "Python 3",
   "language": "python",
   "name": "python3"
  },
  "language_info": {
   "codemirror_mode": {
    "name": "ipython",
    "version": 3
   },
   "file_extension": ".py",
   "mimetype": "text/x-python",
   "name": "python",
   "nbconvert_exporter": "python",
   "pygments_lexer": "ipython3",
   "version": "3.8.3"
  }
 },
 "nbformat": 4,
 "nbformat_minor": 4
}
